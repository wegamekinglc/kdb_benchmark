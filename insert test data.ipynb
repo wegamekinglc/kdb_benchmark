{
 "cells": [
  {
   "cell_type": "code",
   "execution_count": null,
   "metadata": {},
   "outputs": [],
   "source": [
    "import datetime as dt\n",
    "from io import StringIO\n",
    "import psycopg2\n",
    "import numpy as np\n",
    "import numpy.matlib as matlib\n",
    "import pandas as pd\n",
    "import sqlalchemy as sa\n",
    "from PyFin.api import *"
   ]
  },
  {
   "cell_type": "code",
   "execution_count": null,
   "metadata": {},
   "outputs": [],
   "source": [
    "columns = ['trade_time', 'code', 'open', 'high', 'low', 'close', 'volume', 'amount']\n",
    "codes = list(range(1, 3001))\n",
    "dates = pd.to_datetime(bizDatesList('china.sse', '2010-01-01', '2018-04-20'))\n",
    "time_stamps = pd.timedelta_range(start='09:30:00', end='11:30:00', freq='5min', closed='right').append(\n",
    "                         pd.timedelta_range(start='13:00:00', end='15:00:00', freq='5min', closed='right'))"
   ]
  },
  {
   "cell_type": "code",
   "execution_count": null,
   "metadata": {},
   "outputs": [],
   "source": [
    "def insert_date(date):\n",
    "    values = np.random.randn(len(time_stamps) * len(codes), len(columns) - 2)\n",
    "    time_stamp_col = matlib.repmat(date + time_stamps, 1, len(codes))[0]\n",
    "    codes_column = np.repeat(codes, len(time_stamps))\n",
    "\n",
    "    df = pd.DataFrame()\n",
    "    df['trade_time'] = time_stamp_col\n",
    "    df['code'] = codes_column\n",
    "    for i, name in enumerate(columns[2:]):\n",
    "        df[name] = values[:, i]\n",
    "        \n",
    "    df = df[columns]\n",
    "\n",
    "    with StringIO() as sio:\n",
    "        sio.write(df.to_csv(index=None, header=None, float_format='%.8f'))\n",
    "        sio.seek(0)\n",
    "\n",
    "        with psycopg2.connect(\"dbname=test user=postgres password=we083826 host=localhost\") as con:\n",
    "            with con.cursor() as c:\n",
    "                c.copy_from(sio, \"public.market_5min\", columns=df.columns, sep=',')\n",
    "                con.commit()\n",
    "                \n",
    "    print(f\"{date} is finished at: {dt.datetime.now()}\")"
   ]
  },
  {
   "cell_type": "code",
   "execution_count": null,
   "metadata": {},
   "outputs": [],
   "source": [
    "from multiprocessing import Pool\n",
    "pool = Pool(8)"
   ]
  },
  {
   "cell_type": "code",
   "execution_count": null,
   "metadata": {},
   "outputs": [],
   "source": [
    "res = pool.map(insert_date, dates)"
   ]
  },
  {
   "cell_type": "code",
   "execution_count": null,
   "metadata": {},
   "outputs": [],
   "source": []
  }
 ],
 "metadata": {
  "kernelspec": {
   "display_name": "Python 3",
   "language": "python",
   "name": "python3"
  },
  "language_info": {
   "codemirror_mode": {
    "name": "ipython",
    "version": 3
   },
   "file_extension": ".py",
   "mimetype": "text/x-python",
   "name": "python",
   "nbconvert_exporter": "python",
   "pygments_lexer": "ipython3",
   "version": "3.6.5"
  }
 },
 "nbformat": 4,
 "nbformat_minor": 2
}
